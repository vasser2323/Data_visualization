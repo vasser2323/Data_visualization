{
 "cells": [
  {
   "cell_type": "code",
   "execution_count": 1,
   "metadata": {},
   "outputs": [],
   "source": [
    "import pandas as pd "
   ]
  },
  {
   "cell_type": "code",
   "execution_count": 2,
   "metadata": {},
   "outputs": [],
   "source": [
    "df = pd.read_csv('predictive_maintenance.csv')"
   ]
  },
  {
   "cell_type": "code",
   "execution_count": 3,
   "metadata": {},
   "outputs": [
    {
     "data": {
      "text/html": [
       "<div>\n",
       "<style scoped>\n",
       "    .dataframe tbody tr th:only-of-type {\n",
       "        vertical-align: middle;\n",
       "    }\n",
       "\n",
       "    .dataframe tbody tr th {\n",
       "        vertical-align: top;\n",
       "    }\n",
       "\n",
       "    .dataframe thead th {\n",
       "        text-align: right;\n",
       "    }\n",
       "</style>\n",
       "<table border=\"1\" class=\"dataframe\">\n",
       "  <thead>\n",
       "    <tr style=\"text-align: right;\">\n",
       "      <th></th>\n",
       "      <th>UDI</th>\n",
       "      <th>Product ID</th>\n",
       "      <th>Type</th>\n",
       "      <th>Air temperature [K]</th>\n",
       "      <th>Process temperature [K]</th>\n",
       "      <th>Rotational speed [rpm]</th>\n",
       "      <th>Torque [Nm]</th>\n",
       "      <th>Tool wear [min]</th>\n",
       "      <th>Target</th>\n",
       "      <th>Failure Type</th>\n",
       "    </tr>\n",
       "  </thead>\n",
       "  <tbody>\n",
       "    <tr>\n",
       "      <th>0</th>\n",
       "      <td>1</td>\n",
       "      <td>M14860</td>\n",
       "      <td>M</td>\n",
       "      <td>298.1</td>\n",
       "      <td>308.6</td>\n",
       "      <td>1551</td>\n",
       "      <td>42.8</td>\n",
       "      <td>0</td>\n",
       "      <td>0</td>\n",
       "      <td>No Failure</td>\n",
       "    </tr>\n",
       "    <tr>\n",
       "      <th>1</th>\n",
       "      <td>2</td>\n",
       "      <td>L47181</td>\n",
       "      <td>L</td>\n",
       "      <td>298.2</td>\n",
       "      <td>308.7</td>\n",
       "      <td>1408</td>\n",
       "      <td>46.3</td>\n",
       "      <td>3</td>\n",
       "      <td>0</td>\n",
       "      <td>No Failure</td>\n",
       "    </tr>\n",
       "    <tr>\n",
       "      <th>2</th>\n",
       "      <td>3</td>\n",
       "      <td>L47182</td>\n",
       "      <td>L</td>\n",
       "      <td>298.1</td>\n",
       "      <td>308.5</td>\n",
       "      <td>1498</td>\n",
       "      <td>49.4</td>\n",
       "      <td>5</td>\n",
       "      <td>0</td>\n",
       "      <td>No Failure</td>\n",
       "    </tr>\n",
       "    <tr>\n",
       "      <th>3</th>\n",
       "      <td>4</td>\n",
       "      <td>L47183</td>\n",
       "      <td>L</td>\n",
       "      <td>298.2</td>\n",
       "      <td>308.6</td>\n",
       "      <td>1433</td>\n",
       "      <td>39.5</td>\n",
       "      <td>7</td>\n",
       "      <td>0</td>\n",
       "      <td>No Failure</td>\n",
       "    </tr>\n",
       "    <tr>\n",
       "      <th>4</th>\n",
       "      <td>5</td>\n",
       "      <td>L47184</td>\n",
       "      <td>L</td>\n",
       "      <td>298.2</td>\n",
       "      <td>308.7</td>\n",
       "      <td>1408</td>\n",
       "      <td>40.0</td>\n",
       "      <td>9</td>\n",
       "      <td>0</td>\n",
       "      <td>No Failure</td>\n",
       "    </tr>\n",
       "  </tbody>\n",
       "</table>\n",
       "</div>"
      ],
      "text/plain": [
       "   UDI Product ID Type  Air temperature [K]  Process temperature [K]  \\\n",
       "0    1     M14860    M                298.1                    308.6   \n",
       "1    2     L47181    L                298.2                    308.7   \n",
       "2    3     L47182    L                298.1                    308.5   \n",
       "3    4     L47183    L                298.2                    308.6   \n",
       "4    5     L47184    L                298.2                    308.7   \n",
       "\n",
       "   Rotational speed [rpm]  Torque [Nm]  Tool wear [min]  Target Failure Type  \n",
       "0                    1551         42.8                0       0   No Failure  \n",
       "1                    1408         46.3                3       0   No Failure  \n",
       "2                    1498         49.4                5       0   No Failure  \n",
       "3                    1433         39.5                7       0   No Failure  \n",
       "4                    1408         40.0                9       0   No Failure  "
      ]
     },
     "execution_count": 3,
     "metadata": {},
     "output_type": "execute_result"
    }
   ],
   "source": [
    "df.head(5)"
   ]
  },
  {
   "cell_type": "code",
   "execution_count": 4,
   "metadata": {},
   "outputs": [],
   "source": [
    "df = df.rename(columns={'Product ID':'ProductID', \n",
    "                        'Air temperature [K]':'AirTemp', \n",
    "                        'Process temperature [K]':'ProcessTemp',\n",
    "                        'Rotational speed [rpm]':'RotSpeed',\n",
    "                        'Torque [Nm]':'Torque',\n",
    "                        'Tool wear [min]':'ToolWear',\n",
    "                        'Failure Type':'FailType'\t\n",
    "                        })"
   ]
  },
  {
   "cell_type": "code",
   "execution_count": 5,
   "metadata": {},
   "outputs": [
    {
     "data": {
      "text/html": [
       "<div>\n",
       "<style scoped>\n",
       "    .dataframe tbody tr th:only-of-type {\n",
       "        vertical-align: middle;\n",
       "    }\n",
       "\n",
       "    .dataframe tbody tr th {\n",
       "        vertical-align: top;\n",
       "    }\n",
       "\n",
       "    .dataframe thead th {\n",
       "        text-align: right;\n",
       "    }\n",
       "</style>\n",
       "<table border=\"1\" class=\"dataframe\">\n",
       "  <thead>\n",
       "    <tr style=\"text-align: right;\">\n",
       "      <th></th>\n",
       "      <th>UDI</th>\n",
       "      <th>ProductID</th>\n",
       "      <th>Type</th>\n",
       "      <th>AirTemp</th>\n",
       "      <th>ProcessTemp</th>\n",
       "      <th>RotSpeed</th>\n",
       "      <th>Torque</th>\n",
       "      <th>ToolWear</th>\n",
       "      <th>Target</th>\n",
       "      <th>FailType</th>\n",
       "    </tr>\n",
       "  </thead>\n",
       "  <tbody>\n",
       "    <tr>\n",
       "      <th>0</th>\n",
       "      <td>1</td>\n",
       "      <td>M14860</td>\n",
       "      <td>M</td>\n",
       "      <td>298.1</td>\n",
       "      <td>308.6</td>\n",
       "      <td>1551</td>\n",
       "      <td>42.8</td>\n",
       "      <td>0</td>\n",
       "      <td>0</td>\n",
       "      <td>No Failure</td>\n",
       "    </tr>\n",
       "    <tr>\n",
       "      <th>1</th>\n",
       "      <td>2</td>\n",
       "      <td>L47181</td>\n",
       "      <td>L</td>\n",
       "      <td>298.2</td>\n",
       "      <td>308.7</td>\n",
       "      <td>1408</td>\n",
       "      <td>46.3</td>\n",
       "      <td>3</td>\n",
       "      <td>0</td>\n",
       "      <td>No Failure</td>\n",
       "    </tr>\n",
       "    <tr>\n",
       "      <th>2</th>\n",
       "      <td>3</td>\n",
       "      <td>L47182</td>\n",
       "      <td>L</td>\n",
       "      <td>298.1</td>\n",
       "      <td>308.5</td>\n",
       "      <td>1498</td>\n",
       "      <td>49.4</td>\n",
       "      <td>5</td>\n",
       "      <td>0</td>\n",
       "      <td>No Failure</td>\n",
       "    </tr>\n",
       "    <tr>\n",
       "      <th>3</th>\n",
       "      <td>4</td>\n",
       "      <td>L47183</td>\n",
       "      <td>L</td>\n",
       "      <td>298.2</td>\n",
       "      <td>308.6</td>\n",
       "      <td>1433</td>\n",
       "      <td>39.5</td>\n",
       "      <td>7</td>\n",
       "      <td>0</td>\n",
       "      <td>No Failure</td>\n",
       "    </tr>\n",
       "    <tr>\n",
       "      <th>4</th>\n",
       "      <td>5</td>\n",
       "      <td>L47184</td>\n",
       "      <td>L</td>\n",
       "      <td>298.2</td>\n",
       "      <td>308.7</td>\n",
       "      <td>1408</td>\n",
       "      <td>40.0</td>\n",
       "      <td>9</td>\n",
       "      <td>0</td>\n",
       "      <td>No Failure</td>\n",
       "    </tr>\n",
       "  </tbody>\n",
       "</table>\n",
       "</div>"
      ],
      "text/plain": [
       "   UDI ProductID Type  AirTemp  ProcessTemp  RotSpeed  Torque  ToolWear  \\\n",
       "0    1    M14860    M    298.1        308.6      1551    42.8         0   \n",
       "1    2    L47181    L    298.2        308.7      1408    46.3         3   \n",
       "2    3    L47182    L    298.1        308.5      1498    49.4         5   \n",
       "3    4    L47183    L    298.2        308.6      1433    39.5         7   \n",
       "4    5    L47184    L    298.2        308.7      1408    40.0         9   \n",
       "\n",
       "   Target    FailType  \n",
       "0       0  No Failure  \n",
       "1       0  No Failure  \n",
       "2       0  No Failure  \n",
       "3       0  No Failure  \n",
       "4       0  No Failure  "
      ]
     },
     "execution_count": 5,
     "metadata": {},
     "output_type": "execute_result"
    }
   ],
   "source": [
    "df.head(5)"
   ]
  },
  {
   "cell_type": "markdown",
   "metadata": {},
   "source": [
    "### Представление набора данных в длинном формате"
   ]
  },
  {
   "cell_type": "code",
   "execution_count": 16,
   "metadata": {},
   "outputs": [
    {
     "name": "stdout",
     "output_type": "stream",
     "text": [
      "         UDI ProductID Type  Target    FailType Measurement_Type  Value\n",
      "0          1    M14860    M       0  No Failure          AirTemp  298.1\n",
      "1          2    L47181    L       0  No Failure          AirTemp  298.2\n",
      "2          3    L47182    L       0  No Failure          AirTemp  298.1\n",
      "3          4    L47183    L       0  No Failure          AirTemp  298.2\n",
      "4          5    L47184    L       0  No Failure          AirTemp  298.2\n",
      "...      ...       ...  ...     ...         ...              ...    ...\n",
      "49995   9996    M24855    M       0  No Failure         ToolWear   14.0\n",
      "49996   9997    H39410    H       0  No Failure         ToolWear   17.0\n",
      "49997   9998    M24857    M       0  No Failure         ToolWear   22.0\n",
      "49998   9999    H39412    H       0  No Failure         ToolWear   25.0\n",
      "49999  10000    M24859    M       0  No Failure         ToolWear   30.0\n",
      "\n",
      "[50000 rows x 7 columns]\n"
     ]
    }
   ],
   "source": [
    "df_long = pd.melt(df, \n",
    "                  id_vars=['UDI','ProductID','Type','Target','FailType'],\n",
    "                  value_vars=['AirTemp','ProcessTemp','RotSpeed','Torque','ToolWear'],\n",
    "                  var_name='Measurement_Type',\n",
    "                  value_name='Value'\n",
    "                  )\n",
    "\n",
    "print(df_long)"
   ]
  },
  {
   "cell_type": "markdown",
   "metadata": {},
   "source": [
    "### Представление набора данных в широком формате"
   ]
  },
  {
   "cell_type": "code",
   "execution_count": 18,
   "metadata": {},
   "outputs": [
    {
     "name": "stdout",
     "output_type": "stream",
     "text": [
      "      AirTemp               ProcessTemp              \n",
      "Type        H      L      M           H      L      M\n",
      "UDI                                                  \n",
      "1         NaN    NaN  298.1         NaN    NaN  308.6\n",
      "2         NaN  298.2    NaN         NaN  308.7    NaN\n",
      "3         NaN  298.1    NaN         NaN  308.5    NaN\n",
      "4         NaN  298.2    NaN         NaN  308.6    NaN\n",
      "5         NaN  298.2    NaN         NaN  308.7    NaN\n",
      "...       ...    ...    ...         ...    ...    ...\n",
      "9996      NaN    NaN  298.8         NaN    NaN  308.4\n",
      "9997    298.9    NaN    NaN       308.4    NaN    NaN\n",
      "9998      NaN    NaN  299.0         NaN    NaN  308.6\n",
      "9999    299.0    NaN    NaN       308.7    NaN    NaN\n",
      "10000     NaN    NaN  299.0         NaN    NaN  308.7\n",
      "\n",
      "[10000 rows x 6 columns]\n"
     ]
    }
   ],
   "source": [
    "wide_df = df.pivot_table(index=\"UDI\", columns=\"Type\", values=[\"AirTemp\", \"ProcessTemp\"])\n",
    "\n",
    "print(wide_df)\n"
   ]
  },
  {
   "cell_type": "markdown",
   "metadata": {},
   "source": [
    "### Представление набора данных в агрегированном формате"
   ]
  },
  {
   "cell_type": "code",
   "execution_count": 19,
   "metadata": {},
   "outputs": [
    {
     "name": "stdout",
     "output_type": "stream",
     "text": [
      "              UDI     AirTemp  ProcessTemp     RotSpeed     Torque  \\\n",
      "Type                                                                 \n",
      "H     4981.918245  299.866999   309.925723  1538.147557  39.838285   \n",
      "L     4990.747667  300.015833   310.012300  1539.469167  39.996600   \n",
      "M     5026.242910  300.029263   310.018785  1537.598932  40.017251   \n",
      "\n",
      "        ToolWear    Target  \n",
      "Type                        \n",
      "H     107.419741  0.020937  \n",
      "L     108.378833  0.039167  \n",
      "M     107.272272  0.027694  \n"
     ]
    }
   ],
   "source": [
    "aggregated_df = df.groupby(\"Type\").mean(numeric_only=True)\n",
    "print(aggregated_df)\n"
   ]
  },
  {
   "cell_type": "markdown",
   "metadata": {},
   "source": [
    "### Представление в виде сводных таблиц"
   ]
  },
  {
   "cell_type": "code",
   "execution_count": 20,
   "metadata": {},
   "outputs": [
    {
     "name": "stdout",
     "output_type": "stream",
     "text": [
      "         AirTemp  ProcessTemp     RotSpeed\n",
      "Type                                      \n",
      "H     299.866999   309.925723  1538.147557\n",
      "L     300.015833   310.012300  1539.469167\n",
      "M     300.029263   310.018785  1537.598932\n"
     ]
    }
   ],
   "source": [
    "pivot_df = df.pivot_table(index=\"Type\", values=[\"AirTemp\", \"ProcessTemp\", \"RotSpeed\"], aggfunc=\"mean\")\n",
    "print(pivot_df)\n"
   ]
  },
  {
   "cell_type": "code",
   "execution_count": null,
   "metadata": {},
   "outputs": [],
   "source": []
  }
 ],
 "metadata": {
  "kernelspec": {
   "display_name": "vis_engine",
   "language": "python",
   "name": "python3"
  },
  "language_info": {
   "codemirror_mode": {
    "name": "ipython",
    "version": 3
   },
   "file_extension": ".py",
   "mimetype": "text/x-python",
   "name": "python",
   "nbconvert_exporter": "python",
   "pygments_lexer": "ipython3",
   "version": "3.11.2"
  }
 },
 "nbformat": 4,
 "nbformat_minor": 2
}
